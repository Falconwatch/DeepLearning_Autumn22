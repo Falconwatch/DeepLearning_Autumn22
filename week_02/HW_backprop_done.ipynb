{
  "cells": [
    {
      "cell_type": "markdown",
      "metadata": {
        "id": "ScBmMfiT79w-"
      },
      "source": [
        "# Домашние задание"
      ]
    },
    {
      "cell_type": "markdown",
      "metadata": {
        "id": "2kJDrhqV79w-"
      },
      "source": [
        "1. Добавить Bias и посчитать для них градиенты.\n",
        "2. Сравнить градинеты с тем, как считает PyTorch AutoGrad."
      ]
    },
    {
      "cell_type": "markdown",
      "source": [
        "# Данные"
      ],
      "metadata": {
        "id": "cewg1qTPGv8D"
      }
    },
    {
      "cell_type": "code",
      "execution_count": 53,
      "metadata": {
        "id": "RrSbkFzA79w_"
      },
      "outputs": [],
      "source": [
        "import numpy as np\n",
        "import torch\n",
        "import matplotlib.pyplot as plt"
      ]
    },
    {
      "cell_type": "code",
      "source": [
        "x = np.arange(-10, 10, 0.01).reshape(-1, 1)\n",
        "y = x**2 * np.sin(x).reshape(-1, 1)"
      ],
      "metadata": {
        "id": "4IsIv_cQ7rth"
      },
      "execution_count": 54,
      "outputs": []
    },
    {
      "cell_type": "code",
      "source": [
        "plt.scatter(x, y)"
      ],
      "metadata": {
        "id": "PPITBdLhAtdh",
        "outputId": "3923f0be-89be-4226-9cb0-f5997d5ebafa",
        "colab": {
          "base_uri": "https://localhost:8080/",
          "height": 282
        }
      },
      "execution_count": 56,
      "outputs": [
        {
          "output_type": "execute_result",
          "data": {
            "text/plain": [
              "<matplotlib.collections.PathCollection at 0x7f6fee966dd0>"
            ]
          },
          "metadata": {},
          "execution_count": 56
        },
        {
          "output_type": "display_data",
          "data": {
            "text/plain": [
              "<Figure size 432x288 with 1 Axes>"
            ],
            "image/png": "[encoded data removed]"
          },
          "metadata": {
            "needs_background": "light"
          }
        }
      ]
    },
    {
      "cell_type": "code",
      "source": [
        "x = torch.FloatTensor(x)\n",
        "y = torch.FloatTensor(y)"
      ],
      "metadata": {
        "id": "9iN9vbrUHNmH"
      },
      "execution_count": null,
      "outputs": []
    },
    {
      "cell_type": "markdown",
      "source": [
        "# Ручные градиенты"
      ],
      "metadata": {
        "id": "DqhjWwlqGyTC"
      }
    },
    {
      "cell_type": "code",
      "source": [
        "# Randomly initialize weights\n",
        "w1 = torch.randn(input_size, hidden_size, device=device, dtype=dtype)\n",
        "w2 = torch.randn(hidden_size, output_size, device=device, dtype=dtype)\n",
        "b1 = torch.randn(hidden_size, device=device, dtype=dtype)"
      ],
      "metadata": {
        "id": "T2S0eHu-HF4o"
      },
      "execution_count": 107,
      "outputs": []
    },
    {
      "cell_type": "code",
      "source": [
        "learning_rate = 1e-6\n",
        "for t in range(500):\n",
        "    # Forward pass: compute predicted y\n",
        "    #TODO\n",
        "    h1 = x.mm(w1)+b1\n",
        "    h1_relu = torch.nn.functional.relu(h1)\n",
        "    y_pred = h1.mm(w2)\n",
        "\n",
        "    # Compute and print loss\n",
        "    loss = (y_pred - y).pow(2).mean().item()\n",
        "    if t % 100 == 0:\n",
        "        print(t, loss)"
      ],
      "metadata": {
        "id": "dfqDOvZTHGRt",
        "outputId": "8eaf269b-e423-4c77-f348-033910130006",
        "colab": {
          "base_uri": "https://localhost:8080/"
        }
      },
      "execution_count": 108,
      "outputs": [
        {
          "output_type": "stream",
          "name": "stdout",
          "text": [
            "0 3158.02587890625\n",
            "100 3158.02587890625\n",
            "200 3158.02587890625\n",
            "300 3158.02587890625\n",
            "400 3158.02587890625\n"
          ]
        }
      ]
    },
    {
      "cell_type": "markdown",
      "source": [],
      "metadata": {
        "id": "Xedzt9PBGyb7"
      }
    },
    {
      "cell_type": "markdown",
      "source": [
        "# Torch AutogGrad"
      ],
      "metadata": {
        "id": "uPPv-ZSZBKWJ"
      }
    },
    {
      "cell_type": "code",
      "source": [],
      "metadata": {
        "id": "p5K3fIzIBLR-"
      },
      "execution_count": 61,
      "outputs": []
    },
    {
      "cell_type": "code",
      "source": [
        "w1 = torch.randn(input_size, hidden_size, device=device, dtype=dtype, requires_grad=True)\n",
        "w2 = torch.randn(hidden_size, output_size, device=device, dtype=dtype, requires_grad=True)\n",
        "b1 = torch.randn(hidden_size, device=device, dtype=dtype, requires_grad=True)\n",
        "\n",
        "\n",
        "\n",
        "import torch.optim as optim\n",
        "\n",
        "loss_fn = torch.nn.MSELoss(reduction='mean')\n",
        "\n",
        "learning_rate = 1e-2\n",
        "optimizer = torch.optim.Adam([w1, w2, b1], lr=learning_rate)\n",
        "\n",
        "for t in range(50000):\n",
        "    optimizer.zero_grad()\n",
        "    \n",
        "    h1 = x.mm(w1)+b1\n",
        "    h_relu = torch.relu(h1)\n",
        "    y_pred = h_relu.mm(w2)\n",
        "    \n",
        "    loss = loss_fn(y_pred, y)\n",
        "    if t % 1000 == 0:\n",
        "        print(t, loss.item())\n",
        "    \n",
        "    loss.backward()\n",
        "   \n",
        "    optimizer.step()"
      ],
      "metadata": {
        "id": "ZMEQpHADA5s7",
        "outputId": "8be7e23e-2df7-4ab3-e75b-c74c8642aa20",
        "colab": {
          "base_uri": "https://localhost:8080/"
        }
      },
      "execution_count": 94,
      "outputs": [
        {
          "output_type": "stream",
          "name": "stdout",
          "text": [
            "0 708.8270874023438\n",
            "1000 489.7561340332031\n",
            "2000 334.5953674316406\n",
            "3000 297.0195617675781\n",
            "4000 294.4029541015625\n",
            "5000 294.3643493652344\n",
            "6000 294.363037109375\n",
            "7000 294.3659362792969\n",
            "8000 294.3638000488281\n",
            "9000 294.36248779296875\n",
            "10000 294.3625793457031\n",
            "11000 294.3636474609375\n",
            "12000 294.3645324707031\n",
            "13000 294.3653259277344\n",
            "14000 294.3634338378906\n",
            "15000 294.3637390136719\n",
            "16000 294.3623352050781\n",
            "17000 294.3644714355469\n",
            "18000 294.3697204589844\n",
            "19000 294.3631286621094\n",
            "20000 294.36480712890625\n",
            "21000 294.36236572265625\n",
            "22000 294.3647155761719\n",
            "23000 294.36224365234375\n",
            "24000 294.36224365234375\n",
            "25000 294.362548828125\n",
            "26000 294.3646240234375\n",
            "27000 294.3635559082031\n",
            "28000 294.3638916015625\n",
            "29000 294.3622741699219\n",
            "30000 294.3705749511719\n",
            "31000 294.388916015625\n",
            "32000 294.36328125\n",
            "33000 294.3628234863281\n",
            "34000 294.3627624511719\n",
            "35000 294.3630676269531\n",
            "36000 294.3622741699219\n",
            "37000 294.3624267578125\n",
            "38000 294.3626708984375\n",
            "39000 294.3645324707031\n",
            "40000 294.36236572265625\n",
            "41000 294.36944580078125\n",
            "42000 294.3623352050781\n",
            "43000 294.3637390136719\n",
            "44000 294.3636169433594\n",
            "45000 294.3625183105469\n",
            "46000 294.3628234863281\n",
            "47000 294.36260986328125\n",
            "48000 294.3624267578125\n",
            "49000 294.3641357421875\n"
          ]
        }
      ]
    },
    {
      "cell_type": "code",
      "source": [
        "plt.scatter(x, y)\n",
        "plt.scatter(x, y_pred.detach().numpy())"
      ],
      "metadata": {
        "id": "ZwcnWb0kBAhh",
        "outputId": "72a58ef6-7e01-4cf2-ac77-5b359ddf0a20",
        "colab": {
          "base_uri": "https://localhost:8080/",
          "height": 282
        }
      },
      "execution_count": 95,
      "outputs": [
        {
          "output_type": "execute_result",
          "data": {
            "text/plain": [
              "<matplotlib.collections.PathCollection at 0x7f6feeb06890>"
            ]
          },
          "metadata": {},
          "execution_count": 95
        },
        {
          "output_type": "display_data",
          "data": {
            "text/plain": [
              "<Figure size 432x288 with 1 Axes>"
            ],
            "image/png": "[encoded data removed]"
          },
          "metadata": {
            "needs_background": "light"
          }
        }
      ]
    },
    {
      "cell_type": "markdown",
      "source": [
        "# nn.Module"
      ],
      "metadata": {
        "id": "0yk4aNuAFZkl"
      }
    },
    {
      "cell_type": "code",
      "source": [
        "from torch import nn\n",
        "class TwoLayerNet(nn.Module):\n",
        "    def __init__(self, input_size, hidden_size, output_size):\n",
        "        \"\"\"\n",
        "        TwoLayerNet наследуется от nn.Module и тем самым полчаем возможность\n",
        "        переопределять методы класса.\n",
        "        В конструктуре создаем слои (обучаемые веса) и другие нужные перменные/функции,\n",
        "        которые нужны для модели\n",
        "        \"\"\"\n",
        "        super(TwoLayerNet, self).__init__()\n",
        "        self.linear1 = torch.nn.Linear(input_size, hidden_size, bias=False)\n",
        "        self.linear2 = torch.nn.Linear(hidden_size, output_size, bias=False)\n",
        "\n",
        "    def forward(self, x):\n",
        "        \"\"\"\n",
        "        Метод forward отвечает за прямое распростронение модели, \n",
        "        поэтому данный метод нужно переопределять обязательно, \n",
        "        чтобы задать логику прямого распростронения. \n",
        "        Именно в этот момент начинает строится динамический граф\n",
        "        \"\"\"\n",
        "        h_relu = torch.relu(self.linear1(x))\n",
        "        y_pred = self.linear2(h_relu)\n",
        "        \n",
        "        return y_pred\n",
        "        "
      ],
      "metadata": {
        "id": "LplE3aKhFbPz"
      },
      "execution_count": 101,
      "outputs": []
    },
    {
      "cell_type": "code",
      "source": [
        "batch_size = 64\n",
        "input_size = 1\n",
        "hidden_size = 10\n",
        "output_size = 1\n",
        "\n",
        "model = TwoLayerNet(input_size, hidden_size, output_size)\n",
        "\n",
        "loss_fn = torch.nn.MSELoss(reduction='mean')\n",
        "optimizer = torch.optim.Adam(model.parameters(), lr=1e-4)\n",
        "\n",
        "for t in range(50000):\n",
        "    y_pred_nn = model(x)\n",
        "\n",
        "    loss = loss_fn(y_pred_nn, y)\n",
        "    if t % 1000 == 0:\n",
        "        print(t, loss.item())\n",
        "\n",
        "    optimizer.zero_grad()\n",
        "    loss.backward()\n",
        "    optimizer.step()"
      ],
      "metadata": {
        "id": "HTTCVWnnFcGv",
        "outputId": "1dcf73be-ead9-49b8-e0ea-748c44c26e9f",
        "colab": {
          "base_uri": "https://localhost:8080/"
        }
      },
      "execution_count": 102,
      "outputs": [
        {
          "output_type": "stream",
          "name": "stdout",
          "text": [
            "0 791.2003173828125\n",
            "1000 744.2737426757812\n",
            "2000 703.1588134765625\n",
            "3000 672.3887329101562\n",
            "4000 653.5869750976562\n",
            "5000 644.3731689453125\n",
            "6000 640.7433471679688\n",
            "7000 639.9283447265625\n",
            "8000 639.8755493164062\n",
            "9000 639.875\n",
            "10000 639.8751220703125\n",
            "11000 639.8751220703125\n",
            "12000 639.8751220703125\n",
            "13000 639.8751220703125\n",
            "14000 639.8751220703125\n",
            "15000 639.8751220703125\n",
            "16000 639.8750610351562\n",
            "17000 639.8751220703125\n",
            "18000 639.8751220703125\n",
            "19000 639.8751220703125\n",
            "20000 639.8751220703125\n",
            "21000 639.8751220703125\n",
            "22000 639.8750610351562\n",
            "23000 639.8751220703125\n",
            "24000 639.8751220703125\n",
            "25000 639.8751220703125\n",
            "26000 639.8751220703125\n",
            "27000 639.8750610351562\n",
            "28000 639.8751220703125\n",
            "29000 639.8751220703125\n",
            "30000 639.8751220703125\n",
            "31000 639.8751220703125\n",
            "32000 639.8750610351562\n",
            "33000 639.8751220703125\n",
            "34000 639.8750610351562\n",
            "35000 639.8751220703125\n",
            "36000 639.8751220703125\n",
            "37000 639.8751220703125\n",
            "38000 639.8751220703125\n",
            "39000 639.8751220703125\n",
            "40000 639.8751220703125\n",
            "41000 639.8751220703125\n",
            "42000 639.8750610351562\n",
            "43000 639.8751220703125\n",
            "44000 639.8751220703125\n",
            "45000 639.8750610351562\n",
            "46000 639.8751220703125\n",
            "47000 639.8750610351562\n",
            "48000 639.8751220703125\n",
            "49000 639.8751220703125\n"
          ]
        }
      ]
    },
    {
      "cell_type": "code",
      "source": [
        "plt.scatter(x, y)\n",
        "plt.scatter(x, y_pred_nn.detach().numpy())"
      ],
      "metadata": {
        "id": "QZGX_3zcFfZS",
        "outputId": "30434f7b-14fa-48d8-d9d7-601c691c3eea",
        "colab": {
          "base_uri": "https://localhost:8080/",
          "height": 282
        }
      },
      "execution_count": 103,
      "outputs": [
        {
          "output_type": "execute_result",
          "data": {
            "text/plain": [
              "<matplotlib.collections.PathCollection at 0x7f6fee374190>"
            ]
          },
          "metadata": {},
          "execution_count": 103
        },
        {
          "output_type": "display_data",
          "data": {
            "text/plain": [
              "<Figure size 432x288 with 1 Axes>"
            ],
            "image/png": "[encoded data removed]"
          },
          "metadata": {
            "needs_background": "light"
          }
        }
      ]
    },
    {
      "cell_type": "code",
      "source": [],
      "metadata": {
        "id": "CkVchf7rBdoT"
      },
      "execution_count": null,
      "outputs": []
    }
  ],
  "metadata": {
    "kernelspec": {
      "display_name": "Python 3",
      "language": "python",
      "name": "python3"
    },
    "language_info": {
      "codemirror_mode": {
        "name": "ipython",
        "version": 3
      },
      "file_extension": ".py",
      "mimetype": "text/x-python",
      "name": "python",
      "nbconvert_exporter": "python",
      "pygments_lexer": "ipython3",
      "version": "3.6.6"
    },
    "colab": {
      "provenance": [],
      "collapsed_sections": [],
      "toc_visible": true
    }
  },
  "nbformat": 4,
  "nbformat_minor": 0
}